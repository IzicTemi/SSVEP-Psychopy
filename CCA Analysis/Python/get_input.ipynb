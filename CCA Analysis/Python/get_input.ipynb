{
 "cells": [
  {
   "cell_type": "code",
   "execution_count": 1,
   "metadata": {},
   "outputs": [],
   "source": [
    "import numpy as np\n",
    "import scipy.io as sio\n",
    "from scripts import cca_module as cc\n",
    "from scripts import ssvep_files_live as su\n",
    "from random import randint\n",
    "from pylsl import StreamInfo, StreamOutlet, resolve_stream, StreamInlet\n",
    "import numpy as np\n",
    "import time"
   ]
  },
  {
   "cell_type": "code",
   "execution_count": 2,
   "metadata": {},
   "outputs": [],
   "source": [
    "window_len = 3\n",
    "shift_len = 1\n",
    "sample_rate = 250\n",
    "duration = int(window_len*sample_rate)\n",
    "flicker_freq = np.array([9.25, 11.25, 13.25, 9.75, 11.75, 13.75, \n",
    "                       10.25, 12.25, 14.25, 10.75, 12.75, 14.75])\n",
    "\n",
    "\n",
    "streams=resolve_stream('name','openBCIdata')\n",
    "streams2=resolve_stream('name','crosshairMarkers')"
   ]
  },
  {
   "cell_type": "code",
   "execution_count": 3,
   "metadata": {},
   "outputs": [
    {
     "name": "stdout",
     "output_type": "stream",
     "text": [
      "8\n",
      "8\n",
      "11\n",
      "7\n",
      "8\n",
      "7\n",
      "8\n",
      "8\n",
      "7\n",
      "11\n",
      "11\n",
      "8\n",
      "8\n",
      "5\n",
      "11\n",
      "8\n",
      "8\n",
      "8\n",
      "8\n",
      "11\n",
      "11\n"
     ]
    }
   ],
   "source": [
    "while True:\n",
    "    inlet=StreamInlet(streams[0])\n",
    "    inlet2=StreamInlet(streams2[0])\n",
    "    start = np.array(inlet2.pull_sample()[0], dtype=object)[0]\n",
    "\n",
    "    if start == 'START':\n",
    "        chunk_data = np.array(inlet.pull_chunk(4, 1500)[0], dtype=object)\n",
    "        # Filter data\n",
    "        filtered_data = su.get_filtered_eeg(chunk_data, 7.25, 90, 2, sample_rate)\n",
    "        # Segment data\n",
    "        data = su.get_segmented_epochs(filtered_data, window_len, shift_len, sample_rate)\n",
    "\n",
    "        # Classify data\n",
    "        data = data[:,0,:]\n",
    "        key = cc.predicted_value(data)\n",
    "        print(key)\n",
    "    else:\n",
    "        continue"
   ]
  },
  {
   "cell_type": "code",
   "execution_count": null,
   "metadata": {},
   "outputs": [],
   "source": [
    "streams2=resolve_stream('name','crosshairMarkers')\n",
    "inlet2=StreamInlet(streams2[0])\n",
    "ball = np.array(inlet2.pull_sample()[0], dtype=object)\n",
    "ball[0]"
   ]
  },
  {
   "cell_type": "code",
   "execution_count": null,
   "metadata": {},
   "outputs": [],
   "source": []
  },
  {
   "cell_type": "code",
   "execution_count": null,
   "metadata": {},
   "outputs": [],
   "source": []
  }
 ],
 "metadata": {
  "interpreter": {
   "hash": "13709eaceded62120c2c77a0f560650ce798370fb36aec4fcefa7f77b999a9ff"
  },
  "kernelspec": {
   "display_name": "Python 3.9.5 ('base')",
   "language": "python",
   "name": "python3"
  },
  "language_info": {
   "codemirror_mode": {
    "name": "ipython",
    "version": 3
   },
   "file_extension": ".py",
   "mimetype": "text/x-python",
   "name": "python",
   "nbconvert_exporter": "python",
   "pygments_lexer": "ipython3",
   "version": "3.9.5"
  },
  "orig_nbformat": 4
 },
 "nbformat": 4,
 "nbformat_minor": 2
}
